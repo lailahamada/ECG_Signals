{
 "cells": [
  {
   "cell_type": "code",
   "execution_count": 5,
   "metadata": {
    "execution": {
     "iopub.execute_input": "2024-11-21T15:01:31.446286Z",
     "iopub.status.busy": "2024-11-21T15:01:31.445961Z",
     "iopub.status.idle": "2024-11-21T15:01:31.450222Z",
     "shell.execute_reply": "2024-11-21T15:01:31.449251Z",
     "shell.execute_reply.started": "2024-11-21T15:01:31.446257Z"
    }
   },
   "outputs": [],
   "source": [
    "import numpy as np \n",
    "import pandas as pd"
   ]
  },
  {
   "cell_type": "code",
   "execution_count": 7,
   "metadata": {
    "execution": {
     "iopub.execute_input": "2024-11-21T15:01:31.464769Z",
     "iopub.status.busy": "2024-11-21T15:01:31.464507Z",
     "iopub.status.idle": "2024-11-21T15:01:35.259591Z",
     "shell.execute_reply": "2024-11-21T15:01:35.258631Z",
     "shell.execute_reply.started": "2024-11-21T15:01:31.464744Z"
    }
   },
   "outputs": [
    {
     "data": {
      "text/html": [
       "<div>\n",
       "<style scoped>\n",
       "    .dataframe tbody tr th:only-of-type {\n",
       "        vertical-align: middle;\n",
       "    }\n",
       "\n",
       "    .dataframe tbody tr th {\n",
       "        vertical-align: top;\n",
       "    }\n",
       "\n",
       "    .dataframe thead th {\n",
       "        text-align: right;\n",
       "    }\n",
       "</style>\n",
       "<table border=\"1\" class=\"dataframe\">\n",
       "  <thead>\n",
       "    <tr style=\"text-align: right;\">\n",
       "      <th></th>\n",
       "      <th>Unnamed: 0</th>\n",
       "      <th>0</th>\n",
       "      <th>1</th>\n",
       "      <th>2</th>\n",
       "      <th>3</th>\n",
       "      <th>4</th>\n",
       "      <th>5</th>\n",
       "      <th>6</th>\n",
       "      <th>7</th>\n",
       "      <th>8</th>\n",
       "      <th>...</th>\n",
       "      <th>171</th>\n",
       "      <th>172</th>\n",
       "      <th>173</th>\n",
       "      <th>174</th>\n",
       "      <th>175</th>\n",
       "      <th>176</th>\n",
       "      <th>177</th>\n",
       "      <th>178</th>\n",
       "      <th>179</th>\n",
       "      <th>target</th>\n",
       "    </tr>\n",
       "  </thead>\n",
       "  <tbody>\n",
       "    <tr>\n",
       "      <th>0</th>\n",
       "      <td>0</td>\n",
       "      <td>0.006723</td>\n",
       "      <td>-0.019156</td>\n",
       "      <td>0.032603</td>\n",
       "      <td>0.006723</td>\n",
       "      <td>0.084363</td>\n",
       "      <td>0.032603</td>\n",
       "      <td>0.032603</td>\n",
       "      <td>0.006723</td>\n",
       "      <td>0.006723</td>\n",
       "      <td>...</td>\n",
       "      <td>-0.536756</td>\n",
       "      <td>-0.562636</td>\n",
       "      <td>-0.614396</td>\n",
       "      <td>-0.588516</td>\n",
       "      <td>-0.666156</td>\n",
       "      <td>-0.640276</td>\n",
       "      <td>-0.640276</td>\n",
       "      <td>-0.588516</td>\n",
       "      <td>-0.640276</td>\n",
       "      <td>1</td>\n",
       "    </tr>\n",
       "    <tr>\n",
       "      <th>1</th>\n",
       "      <td>1</td>\n",
       "      <td>-0.122676</td>\n",
       "      <td>-0.200316</td>\n",
       "      <td>-0.200316</td>\n",
       "      <td>-0.252076</td>\n",
       "      <td>-0.226196</td>\n",
       "      <td>-0.174436</td>\n",
       "      <td>-0.122676</td>\n",
       "      <td>-0.174436</td>\n",
       "      <td>-0.174436</td>\n",
       "      <td>...</td>\n",
       "      <td>-0.562636</td>\n",
       "      <td>-0.510876</td>\n",
       "      <td>-0.510876</td>\n",
       "      <td>-0.536756</td>\n",
       "      <td>-0.562636</td>\n",
       "      <td>-0.588516</td>\n",
       "      <td>-0.588516</td>\n",
       "      <td>-0.614396</td>\n",
       "      <td>-0.562636</td>\n",
       "      <td>1</td>\n",
       "    </tr>\n",
       "    <tr>\n",
       "      <th>2</th>\n",
       "      <td>2</td>\n",
       "      <td>-0.355596</td>\n",
       "      <td>-0.407356</td>\n",
       "      <td>-0.252076</td>\n",
       "      <td>-0.277956</td>\n",
       "      <td>-0.252076</td>\n",
       "      <td>-0.277956</td>\n",
       "      <td>-0.277956</td>\n",
       "      <td>-0.329716</td>\n",
       "      <td>-0.277956</td>\n",
       "      <td>...</td>\n",
       "      <td>-0.329716</td>\n",
       "      <td>-0.355596</td>\n",
       "      <td>-0.407356</td>\n",
       "      <td>-0.433236</td>\n",
       "      <td>-0.433236</td>\n",
       "      <td>-0.355596</td>\n",
       "      <td>-0.303836</td>\n",
       "      <td>-0.407356</td>\n",
       "      <td>-0.381476</td>\n",
       "      <td>1</td>\n",
       "    </tr>\n",
       "    <tr>\n",
       "      <th>3</th>\n",
       "      <td>3</td>\n",
       "      <td>-0.200316</td>\n",
       "      <td>-0.200316</td>\n",
       "      <td>-0.226196</td>\n",
       "      <td>-0.252076</td>\n",
       "      <td>-0.200316</td>\n",
       "      <td>-0.122676</td>\n",
       "      <td>-0.122676</td>\n",
       "      <td>-0.148556</td>\n",
       "      <td>-0.148556</td>\n",
       "      <td>...</td>\n",
       "      <td>-0.614396</td>\n",
       "      <td>-0.614396</td>\n",
       "      <td>-0.614396</td>\n",
       "      <td>-0.588516</td>\n",
       "      <td>-0.614396</td>\n",
       "      <td>-0.743796</td>\n",
       "      <td>-0.717916</td>\n",
       "      <td>-0.743796</td>\n",
       "      <td>-0.666156</td>\n",
       "      <td>1</td>\n",
       "    </tr>\n",
       "    <tr>\n",
       "      <th>4</th>\n",
       "      <td>4</td>\n",
       "      <td>-0.174436</td>\n",
       "      <td>-0.174436</td>\n",
       "      <td>-0.174436</td>\n",
       "      <td>-0.096796</td>\n",
       "      <td>-0.096796</td>\n",
       "      <td>-0.096796</td>\n",
       "      <td>-0.200316</td>\n",
       "      <td>-0.226196</td>\n",
       "      <td>-0.174436</td>\n",
       "      <td>...</td>\n",
       "      <td>-0.459116</td>\n",
       "      <td>-0.459116</td>\n",
       "      <td>-0.510876</td>\n",
       "      <td>-0.536756</td>\n",
       "      <td>-0.614396</td>\n",
       "      <td>-0.614396</td>\n",
       "      <td>-0.536756</td>\n",
       "      <td>-0.536756</td>\n",
       "      <td>-0.588516</td>\n",
       "      <td>1</td>\n",
       "    </tr>\n",
       "  </tbody>\n",
       "</table>\n",
       "<p>5 rows × 182 columns</p>\n",
       "</div>"
      ],
      "text/plain": [
       "   Unnamed: 0         0         1         2         3         4         5  \\\n",
       "0           0  0.006723 -0.019156  0.032603  0.006723  0.084363  0.032603   \n",
       "1           1 -0.122676 -0.200316 -0.200316 -0.252076 -0.226196 -0.174436   \n",
       "2           2 -0.355596 -0.407356 -0.252076 -0.277956 -0.252076 -0.277956   \n",
       "3           3 -0.200316 -0.200316 -0.226196 -0.252076 -0.200316 -0.122676   \n",
       "4           4 -0.174436 -0.174436 -0.174436 -0.096796 -0.096796 -0.096796   \n",
       "\n",
       "          6         7         8  ...       171       172       173       174  \\\n",
       "0  0.032603  0.006723  0.006723  ... -0.536756 -0.562636 -0.614396 -0.588516   \n",
       "1 -0.122676 -0.174436 -0.174436  ... -0.562636 -0.510876 -0.510876 -0.536756   \n",
       "2 -0.277956 -0.329716 -0.277956  ... -0.329716 -0.355596 -0.407356 -0.433236   \n",
       "3 -0.122676 -0.148556 -0.148556  ... -0.614396 -0.614396 -0.614396 -0.588516   \n",
       "4 -0.200316 -0.226196 -0.174436  ... -0.459116 -0.459116 -0.510876 -0.536756   \n",
       "\n",
       "        175       176       177       178       179  target  \n",
       "0 -0.666156 -0.640276 -0.640276 -0.588516 -0.640276       1  \n",
       "1 -0.562636 -0.588516 -0.588516 -0.614396 -0.562636       1  \n",
       "2 -0.433236 -0.355596 -0.303836 -0.407356 -0.381476       1  \n",
       "3 -0.614396 -0.743796 -0.717916 -0.743796 -0.666156       1  \n",
       "4 -0.614396 -0.614396 -0.536756 -0.536756 -0.588516       1  \n",
       "\n",
       "[5 rows x 182 columns]"
      ]
     },
     "execution_count": 7,
     "metadata": {},
     "output_type": "execute_result"
    }
   ],
   "source": [
    "data=pd.read_csv('/kaggle/input/mit-bih/MIT-BIH.csv')\n",
    "data.head()"
   ]
  },
  {
   "cell_type": "code",
   "execution_count": 8,
   "metadata": {
    "execution": {
     "iopub.execute_input": "2024-11-21T15:01:35.262054Z",
     "iopub.status.busy": "2024-11-21T15:01:35.261662Z",
     "iopub.status.idle": "2024-11-21T15:01:35.267795Z",
     "shell.execute_reply": "2024-11-21T15:01:35.266908Z",
     "shell.execute_reply.started": "2024-11-21T15:01:35.262013Z"
    }
   },
   "outputs": [
    {
     "data": {
      "text/plain": [
       "(107775, 182)"
      ]
     },
     "execution_count": 8,
     "metadata": {},
     "output_type": "execute_result"
    }
   ],
   "source": [
    "data.shape"
   ]
  },
  {
   "cell_type": "code",
   "execution_count": 9,
   "metadata": {
    "execution": {
     "iopub.execute_input": "2024-11-21T15:01:35.269285Z",
     "iopub.status.busy": "2024-11-21T15:01:35.268906Z",
     "iopub.status.idle": "2024-11-21T15:01:35.324093Z",
     "shell.execute_reply": "2024-11-21T15:01:35.323230Z",
     "shell.execute_reply.started": "2024-11-21T15:01:35.269244Z"
    }
   },
   "outputs": [],
   "source": [
    "data.drop('Unnamed: 0', axis=1, inplace=True)"
   ]
  },
  {
   "cell_type": "code",
   "execution_count": 10,
   "metadata": {
    "execution": {
     "iopub.execute_input": "2024-11-21T15:01:35.327221Z",
     "iopub.status.busy": "2024-11-21T15:01:35.326614Z",
     "iopub.status.idle": "2024-11-21T15:01:36.224603Z",
     "shell.execute_reply": "2024-11-21T15:01:36.223700Z",
     "shell.execute_reply.started": "2024-11-21T15:01:35.327159Z"
    }
   },
   "outputs": [
    {
     "data": {
      "text/html": [
       "<div>\n",
       "<style scoped>\n",
       "    .dataframe tbody tr th:only-of-type {\n",
       "        vertical-align: middle;\n",
       "    }\n",
       "\n",
       "    .dataframe tbody tr th {\n",
       "        vertical-align: top;\n",
       "    }\n",
       "\n",
       "    .dataframe thead th {\n",
       "        text-align: right;\n",
       "    }\n",
       "</style>\n",
       "<table border=\"1\" class=\"dataframe\">\n",
       "  <thead>\n",
       "    <tr style=\"text-align: right;\">\n",
       "      <th></th>\n",
       "      <th>0</th>\n",
       "      <th>1</th>\n",
       "      <th>2</th>\n",
       "      <th>3</th>\n",
       "      <th>4</th>\n",
       "      <th>5</th>\n",
       "      <th>6</th>\n",
       "      <th>7</th>\n",
       "      <th>8</th>\n",
       "      <th>9</th>\n",
       "      <th>...</th>\n",
       "      <th>171</th>\n",
       "      <th>172</th>\n",
       "      <th>173</th>\n",
       "      <th>174</th>\n",
       "      <th>175</th>\n",
       "      <th>176</th>\n",
       "      <th>177</th>\n",
       "      <th>178</th>\n",
       "      <th>179</th>\n",
       "      <th>target</th>\n",
       "    </tr>\n",
       "  </thead>\n",
       "  <tbody>\n",
       "    <tr>\n",
       "      <th>count</th>\n",
       "      <td>107,775.000</td>\n",
       "      <td>107,775.000</td>\n",
       "      <td>107,775.000</td>\n",
       "      <td>107,775.000</td>\n",
       "      <td>107,775.000</td>\n",
       "      <td>107,775.000</td>\n",
       "      <td>107,775.000</td>\n",
       "      <td>107,775.000</td>\n",
       "      <td>107,775.000</td>\n",
       "      <td>107,775.000</td>\n",
       "      <td>...</td>\n",
       "      <td>107,775.000</td>\n",
       "      <td>107,775.000</td>\n",
       "      <td>107,775.000</td>\n",
       "      <td>107,775.000</td>\n",
       "      <td>107,775.000</td>\n",
       "      <td>107,775.000</td>\n",
       "      <td>107,775.000</td>\n",
       "      <td>107,775.000</td>\n",
       "      <td>107,775.000</td>\n",
       "      <td>107,775.000</td>\n",
       "    </tr>\n",
       "    <tr>\n",
       "      <th>mean</th>\n",
       "      <td>-0.144</td>\n",
       "      <td>-0.144</td>\n",
       "      <td>-0.143</td>\n",
       "      <td>-0.142</td>\n",
       "      <td>-0.141</td>\n",
       "      <td>-0.140</td>\n",
       "      <td>-0.138</td>\n",
       "      <td>-0.137</td>\n",
       "      <td>-0.135</td>\n",
       "      <td>-0.133</td>\n",
       "      <td>...</td>\n",
       "      <td>0.045</td>\n",
       "      <td>0.057</td>\n",
       "      <td>0.070</td>\n",
       "      <td>0.082</td>\n",
       "      <td>0.094</td>\n",
       "      <td>0.105</td>\n",
       "      <td>0.116</td>\n",
       "      <td>0.127</td>\n",
       "      <td>0.138</td>\n",
       "      <td>1.300</td>\n",
       "    </tr>\n",
       "    <tr>\n",
       "      <th>std</th>\n",
       "      <td>0.538</td>\n",
       "      <td>0.538</td>\n",
       "      <td>0.537</td>\n",
       "      <td>0.536</td>\n",
       "      <td>0.536</td>\n",
       "      <td>0.536</td>\n",
       "      <td>0.535</td>\n",
       "      <td>0.535</td>\n",
       "      <td>0.534</td>\n",
       "      <td>0.534</td>\n",
       "      <td>...</td>\n",
       "      <td>0.831</td>\n",
       "      <td>0.835</td>\n",
       "      <td>0.838</td>\n",
       "      <td>0.841</td>\n",
       "      <td>0.843</td>\n",
       "      <td>0.845</td>\n",
       "      <td>0.848</td>\n",
       "      <td>0.849</td>\n",
       "      <td>0.850</td>\n",
       "      <td>0.799</td>\n",
       "    </tr>\n",
       "    <tr>\n",
       "      <th>min</th>\n",
       "      <td>-10.305</td>\n",
       "      <td>-10.322</td>\n",
       "      <td>-10.372</td>\n",
       "      <td>-10.372</td>\n",
       "      <td>-10.372</td>\n",
       "      <td>-10.405</td>\n",
       "      <td>-10.355</td>\n",
       "      <td>-10.339</td>\n",
       "      <td>-10.289</td>\n",
       "      <td>-10.256</td>\n",
       "      <td>...</td>\n",
       "      <td>-9.400</td>\n",
       "      <td>-9.400</td>\n",
       "      <td>-9.400</td>\n",
       "      <td>-9.459</td>\n",
       "      <td>-9.400</td>\n",
       "      <td>-9.381</td>\n",
       "      <td>-9.264</td>\n",
       "      <td>-9.323</td>\n",
       "      <td>-9.303</td>\n",
       "      <td>0.000</td>\n",
       "    </tr>\n",
       "    <tr>\n",
       "      <th>25%</th>\n",
       "      <td>-0.407</td>\n",
       "      <td>-0.406</td>\n",
       "      <td>-0.406</td>\n",
       "      <td>-0.405</td>\n",
       "      <td>-0.405</td>\n",
       "      <td>-0.405</td>\n",
       "      <td>-0.402</td>\n",
       "      <td>-0.402</td>\n",
       "      <td>-0.400</td>\n",
       "      <td>-0.399</td>\n",
       "      <td>...</td>\n",
       "      <td>-0.486</td>\n",
       "      <td>-0.477</td>\n",
       "      <td>-0.466</td>\n",
       "      <td>-0.455</td>\n",
       "      <td>-0.442</td>\n",
       "      <td>-0.434</td>\n",
       "      <td>-0.424</td>\n",
       "      <td>-0.412</td>\n",
       "      <td>-0.400</td>\n",
       "      <td>1.000</td>\n",
       "    </tr>\n",
       "    <tr>\n",
       "      <th>50%</th>\n",
       "      <td>-0.171</td>\n",
       "      <td>-0.170</td>\n",
       "      <td>-0.170</td>\n",
       "      <td>-0.170</td>\n",
       "      <td>-0.169</td>\n",
       "      <td>-0.168</td>\n",
       "      <td>-0.167</td>\n",
       "      <td>-0.166</td>\n",
       "      <td>-0.165</td>\n",
       "      <td>-0.160</td>\n",
       "      <td>...</td>\n",
       "      <td>0.032</td>\n",
       "      <td>0.048</td>\n",
       "      <td>0.060</td>\n",
       "      <td>0.073</td>\n",
       "      <td>0.080</td>\n",
       "      <td>0.091</td>\n",
       "      <td>0.103</td>\n",
       "      <td>0.111</td>\n",
       "      <td>0.119</td>\n",
       "      <td>1.000</td>\n",
       "    </tr>\n",
       "    <tr>\n",
       "      <th>75%</th>\n",
       "      <td>0.099</td>\n",
       "      <td>0.098</td>\n",
       "      <td>0.099</td>\n",
       "      <td>0.099</td>\n",
       "      <td>0.099</td>\n",
       "      <td>0.100</td>\n",
       "      <td>0.100</td>\n",
       "      <td>0.100</td>\n",
       "      <td>0.100</td>\n",
       "      <td>0.101</td>\n",
       "      <td>...</td>\n",
       "      <td>0.545</td>\n",
       "      <td>0.560</td>\n",
       "      <td>0.577</td>\n",
       "      <td>0.593</td>\n",
       "      <td>0.607</td>\n",
       "      <td>0.620</td>\n",
       "      <td>0.637</td>\n",
       "      <td>0.650</td>\n",
       "      <td>0.661</td>\n",
       "      <td>1.000</td>\n",
       "    </tr>\n",
       "    <tr>\n",
       "      <th>max</th>\n",
       "      <td>9.516</td>\n",
       "      <td>9.370</td>\n",
       "      <td>9.370</td>\n",
       "      <td>9.487</td>\n",
       "      <td>9.545</td>\n",
       "      <td>9.633</td>\n",
       "      <td>9.516</td>\n",
       "      <td>9.429</td>\n",
       "      <td>9.400</td>\n",
       "      <td>9.429</td>\n",
       "      <td>...</td>\n",
       "      <td>11.971</td>\n",
       "      <td>11.761</td>\n",
       "      <td>11.531</td>\n",
       "      <td>11.512</td>\n",
       "      <td>11.607</td>\n",
       "      <td>11.703</td>\n",
       "      <td>11.646</td>\n",
       "      <td>11.550</td>\n",
       "      <td>11.550</td>\n",
       "      <td>4.000</td>\n",
       "    </tr>\n",
       "  </tbody>\n",
       "</table>\n",
       "<p>8 rows × 181 columns</p>\n",
       "</div>"
      ],
      "text/plain": [
       "                0           1           2           3           4           5  \\\n",
       "count 107,775.000 107,775.000 107,775.000 107,775.000 107,775.000 107,775.000   \n",
       "mean       -0.144      -0.144      -0.143      -0.142      -0.141      -0.140   \n",
       "std         0.538       0.538       0.537       0.536       0.536       0.536   \n",
       "min       -10.305     -10.322     -10.372     -10.372     -10.372     -10.405   \n",
       "25%        -0.407      -0.406      -0.406      -0.405      -0.405      -0.405   \n",
       "50%        -0.171      -0.170      -0.170      -0.170      -0.169      -0.168   \n",
       "75%         0.099       0.098       0.099       0.099       0.099       0.100   \n",
       "max         9.516       9.370       9.370       9.487       9.545       9.633   \n",
       "\n",
       "                6           7           8           9  ...         171  \\\n",
       "count 107,775.000 107,775.000 107,775.000 107,775.000  ... 107,775.000   \n",
       "mean       -0.138      -0.137      -0.135      -0.133  ...       0.045   \n",
       "std         0.535       0.535       0.534       0.534  ...       0.831   \n",
       "min       -10.355     -10.339     -10.289     -10.256  ...      -9.400   \n",
       "25%        -0.402      -0.402      -0.400      -0.399  ...      -0.486   \n",
       "50%        -0.167      -0.166      -0.165      -0.160  ...       0.032   \n",
       "75%         0.100       0.100       0.100       0.101  ...       0.545   \n",
       "max         9.516       9.429       9.400       9.429  ...      11.971   \n",
       "\n",
       "              172         173         174         175         176         177  \\\n",
       "count 107,775.000 107,775.000 107,775.000 107,775.000 107,775.000 107,775.000   \n",
       "mean        0.057       0.070       0.082       0.094       0.105       0.116   \n",
       "std         0.835       0.838       0.841       0.843       0.845       0.848   \n",
       "min        -9.400      -9.400      -9.459      -9.400      -9.381      -9.264   \n",
       "25%        -0.477      -0.466      -0.455      -0.442      -0.434      -0.424   \n",
       "50%         0.048       0.060       0.073       0.080       0.091       0.103   \n",
       "75%         0.560       0.577       0.593       0.607       0.620       0.637   \n",
       "max        11.761      11.531      11.512      11.607      11.703      11.646   \n",
       "\n",
       "              178         179      target  \n",
       "count 107,775.000 107,775.000 107,775.000  \n",
       "mean        0.127       0.138       1.300  \n",
       "std         0.849       0.850       0.799  \n",
       "min        -9.323      -9.303       0.000  \n",
       "25%        -0.412      -0.400       1.000  \n",
       "50%         0.111       0.119       1.000  \n",
       "75%         0.650       0.661       1.000  \n",
       "max        11.550      11.550       4.000  \n",
       "\n",
       "[8 rows x 181 columns]"
      ]
     },
     "execution_count": 10,
     "metadata": {},
     "output_type": "execute_result"
    }
   ],
   "source": [
    "pd.options.display.float_format='{:,.3f}'.format\n",
    "data.describe()"
   ]
  },
  {
   "cell_type": "code",
   "execution_count": 11,
   "metadata": {
    "execution": {
     "iopub.execute_input": "2024-11-21T15:01:36.226013Z",
     "iopub.status.busy": "2024-11-21T15:01:36.225731Z",
     "iopub.status.idle": "2024-11-21T15:01:36.708564Z",
     "shell.execute_reply": "2024-11-21T15:01:36.707653Z",
     "shell.execute_reply.started": "2024-11-21T15:01:36.225984Z"
    }
   },
   "outputs": [
    {
     "data": {
      "text/plain": [
       "0"
      ]
     },
     "execution_count": 11,
     "metadata": {},
     "output_type": "execute_result"
    }
   ],
   "source": [
    "data.duplicated().sum()"
   ]
  },
  {
   "cell_type": "code",
   "execution_count": 12,
   "metadata": {
    "execution": {
     "iopub.execute_input": "2024-11-21T15:01:36.709972Z",
     "iopub.status.busy": "2024-11-21T15:01:36.709642Z",
     "iopub.status.idle": "2024-11-21T15:01:36.719965Z",
     "shell.execute_reply": "2024-11-21T15:01:36.719017Z",
     "shell.execute_reply.started": "2024-11-21T15:01:36.709937Z"
    }
   },
   "outputs": [
    {
     "data": {
      "text/plain": [
       "target\n",
       "1    89694\n",
       "2     8001\n",
       "4     6487\n",
       "3     2814\n",
       "0      779\n",
       "Name: count, dtype: int64"
      ]
     },
     "execution_count": 12,
     "metadata": {},
     "output_type": "execute_result"
    }
   ],
   "source": [
    "data[\"target\"].value_counts()"
   ]
  },
  {
   "cell_type": "markdown",
   "metadata": {},
   "source": [
    "***The heartbeats are categorized into\n",
    "89694 for Normal beats, 6487 for Ventricular ectopic beats,\n",
    "2814 for Supraventricular ectopic beats, 779 for Fusion beats,\n",
    "and 24 for Unknown beats.--> \"Imbalanced Data\"***\n"
   ]
  },
  {
   "cell_type": "code",
   "execution_count": 14,
   "metadata": {
    "execution": {
     "iopub.execute_input": "2024-11-21T15:03:34.577234Z",
     "iopub.status.busy": "2024-11-21T15:03:34.576441Z",
     "iopub.status.idle": "2024-11-21T15:03:34.812466Z",
     "shell.execute_reply": "2024-11-21T15:03:34.811541Z",
     "shell.execute_reply.started": "2024-11-21T15:03:34.577201Z"
    }
   },
   "outputs": [
    {
     "name": "stdout",
     "output_type": "stream",
     "text": [
      "Distribution of classes in training data: Counter({1: 67270, 2: 6001, 4: 4865, 3: 2111, 0: 584})\n",
      "Distribution of classes in testing data: Counter({1: 22424, 2: 2000, 4: 1622, 3: 703, 0: 195})\n"
     ]
    }
   ],
   "source": [
    "from sklearn.model_selection import train_test_split\n",
    "from collections import Counter\n",
    "\n",
    "x= data.drop('target',axis=1)\n",
    "y= data['target'] \n",
    "\n",
    "X_train, X_test, y_train, y_test = train_test_split(\n",
    "    x, y, test_size=0.25, stratify=y, random_state=42\n",
    ")\n",
    "\n",
    "\n",
    "print(\"Distribution of classes in training data:\", Counter(y_train))\n",
    "print(\"Distribution of classes in testing data:\", Counter(y_test))\n"
   ]
  },
  {
   "cell_type": "code",
   "execution_count": 15,
   "metadata": {
    "execution": {
     "iopub.execute_input": "2024-11-21T15:03:40.179420Z",
     "iopub.status.busy": "2024-11-21T15:03:40.179079Z",
     "iopub.status.idle": "2024-11-21T15:03:40.753389Z",
     "shell.execute_reply": "2024-11-21T15:03:40.752571Z",
     "shell.execute_reply.started": "2024-11-21T15:03:40.179390Z"
    }
   },
   "outputs": [
    {
     "name": "stdout",
     "output_type": "stream",
     "text": [
      "Final distribution of labeled data: Counter({0: 25000, 1: 25000, 2: 25000, 3: 25000, 4: 25000})\n"
     ]
    }
   ],
   "source": [
    "from imblearn.under_sampling import RandomUnderSampler\n",
    "from imblearn.over_sampling import RandomOverSampler\n",
    "\n",
    "rus = RandomUnderSampler(sampling_strategy={1: 25000}, random_state=42)\n",
    "X_train_resampled, y_train_resampled = rus.fit_resample(X_train, y_train)\n",
    "\n",
    "ros = RandomOverSampler(sampling_strategy={3: 25000, 4: 25000, 0: 25000,2:25000}, random_state=42)\n",
    "X_train_balanced, y_train_balanced = ros.fit_resample(X_train_resampled, y_train_resampled)\n",
    "\n",
    "print(\"Final distribution of labeled data:\", Counter(y_train_balanced))\n"
   ]
  },
  {
   "cell_type": "code",
   "execution_count": 16,
   "metadata": {
    "execution": {
     "iopub.execute_input": "2024-11-21T15:03:45.657681Z",
     "iopub.status.busy": "2024-11-21T15:03:45.656900Z",
     "iopub.status.idle": "2024-11-21T15:03:54.977376Z",
     "shell.execute_reply": "2024-11-21T15:03:54.976235Z",
     "shell.execute_reply.started": "2024-11-21T15:03:45.657650Z"
    }
   },
   "outputs": [
    {
     "name": "stdout",
     "output_type": "stream",
     "text": [
      "Collecting imblearn\n",
      "  Downloading imblearn-0.0-py2.py3-none-any.whl.metadata (355 bytes)\n",
      "Requirement already satisfied: imbalanced-learn in /opt/conda/lib/python3.10/site-packages (from imblearn) (0.12.3)\n",
      "Requirement already satisfied: numpy>=1.17.3 in /opt/conda/lib/python3.10/site-packages (from imbalanced-learn->imblearn) (1.26.4)\n",
      "Requirement already satisfied: scipy>=1.5.0 in /opt/conda/lib/python3.10/site-packages (from imbalanced-learn->imblearn) (1.14.1)\n",
      "Requirement already satisfied: scikit-learn>=1.0.2 in /opt/conda/lib/python3.10/site-packages (from imbalanced-learn->imblearn) (1.2.2)\n",
      "Requirement already satisfied: joblib>=1.1.1 in /opt/conda/lib/python3.10/site-packages (from imbalanced-learn->imblearn) (1.4.2)\n",
      "Requirement already satisfied: threadpoolctl>=2.0.0 in /opt/conda/lib/python3.10/site-packages (from imbalanced-learn->imblearn) (3.5.0)\n",
      "Downloading imblearn-0.0-py2.py3-none-any.whl (1.9 kB)\n",
      "Installing collected packages: imblearn\n",
      "Successfully installed imblearn-0.0\n",
      "Note: you may need to restart the kernel to use updated packages.\n"
     ]
    }
   ],
   "source": [
    "pip install imblearn"
   ]
  },
  {
   "cell_type": "code",
   "execution_count": 17,
   "metadata": {
    "execution": {
     "iopub.execute_input": "2024-11-21T15:03:57.503573Z",
     "iopub.status.busy": "2024-11-21T15:03:57.503230Z",
     "iopub.status.idle": "2024-11-21T15:03:58.158748Z",
     "shell.execute_reply": "2024-11-21T15:03:58.157888Z",
     "shell.execute_reply.started": "2024-11-21T15:03:57.503544Z"
    }
   },
   "outputs": [
    {
     "name": "stdout",
     "output_type": "stream",
     "text": [
      "Final distribution of labeled data: Counter({0: 25000, 1: 25000, 2: 25000, 3: 25000, 4: 25000})\n"
     ]
    }
   ],
   "source": [
    "from imblearn.under_sampling import RandomUnderSampler\n",
    "from imblearn.over_sampling import RandomOverSampler\n",
    "\n",
    "rus = RandomUnderSampler(sampling_strategy={1: 25000}, random_state=42)\n",
    "X_train_resampled, y_train_resampled = rus.fit_resample(X_train, y_train)\n",
    "\n",
    "ros = RandomOverSampler(sampling_strategy={3: 25000, 4: 25000, 0: 25000,2:25000}, random_state=42)\n",
    "X_train_balanced, y_train_balanced = ros.fit_resample(X_train_resampled, y_train_resampled)\n",
    "\n",
    "print(\"Final distribution of labeled data:\", Counter(y_train_balanced))\n"
   ]
  },
  {
   "cell_type": "code",
   "execution_count": 18,
   "metadata": {
    "execution": {
     "iopub.execute_input": "2024-11-21T15:04:02.980611Z",
     "iopub.status.busy": "2024-11-21T15:04:02.980267Z",
     "iopub.status.idle": "2024-11-21T15:04:02.990871Z",
     "shell.execute_reply": "2024-11-21T15:04:02.989916Z",
     "shell.execute_reply.started": "2024-11-21T15:04:02.980580Z"
    }
   },
   "outputs": [
    {
     "name": "stdout",
     "output_type": "stream",
     "text": [
      "target\n",
      "0    25000\n",
      "1    25000\n",
      "2    25000\n",
      "3    25000\n",
      "4    25000\n",
      "Name: count, dtype: int64\n"
     ]
    },
    {
     "name": "stderr",
     "output_type": "stream",
     "text": [
      "/tmp/ipykernel_30/2069629483.py:4: PerformanceWarning: DataFrame is highly fragmented.  This is usually the result of calling `frame.insert` many times, which has poor performance.  Consider joining all columns at once using pd.concat(axis=1) instead. To get a de-fragmented frame, use `newframe = frame.copy()`\n",
      "  balanced_data['target'] = y_train_balanced\n"
     ]
    }
   ],
   "source": [
    "import pandas as pd\n",
    "\n",
    "balanced_data = pd.DataFrame(X_train_balanced)\n",
    "balanced_data['target'] = y_train_balanced\n",
    "print(balanced_data['target'].value_counts())"
   ]
  },
  {
   "cell_type": "markdown",
   "metadata": {},
   "source": [
    "# LSTM "
   ]
  },
  {
   "cell_type": "code",
   "execution_count": 20,
   "metadata": {
    "execution": {
     "iopub.execute_input": "2024-11-21T15:04:23.461060Z",
     "iopub.status.busy": "2024-11-21T15:04:23.460271Z",
     "iopub.status.idle": "2024-11-21T15:04:34.835334Z",
     "shell.execute_reply": "2024-11-21T15:04:34.834624Z",
     "shell.execute_reply.started": "2024-11-21T15:04:23.461025Z"
    }
   },
   "outputs": [],
   "source": [
    "import tensorflow as tf\n",
    "from tensorflow.keras.models import Sequential\n",
    "from tensorflow.keras.layers import LSTM, Dense, Dropout\n",
    "from sklearn.metrics import classification_report, confusion_matrix\n"
   ]
  },
  {
   "cell_type": "code",
   "execution_count": 21,
   "metadata": {
    "execution": {
     "iopub.execute_input": "2024-11-21T15:05:03.280108Z",
     "iopub.status.busy": "2024-11-21T15:05:03.279526Z",
     "iopub.status.idle": "2024-11-21T15:05:04.646028Z",
     "shell.execute_reply": "2024-11-21T15:05:04.644933Z",
     "shell.execute_reply.started": "2024-11-21T15:05:03.280077Z"
    }
   },
   "outputs": [
    {
     "name": "stderr",
     "output_type": "stream",
     "text": [
      "/opt/conda/lib/python3.10/site-packages/keras/src/layers/rnn/rnn.py:204: UserWarning: Do not pass an `input_shape`/`input_dim` argument to a layer. When using Sequential models, prefer using an `Input(shape)` object as the first layer in the model instead.\n",
      "  super().__init__(**kwargs)\n"
     ]
    }
   ],
   "source": [
    "model = Sequential([\n",
    "    LSTM(128, input_shape=(125000, 125000), return_sequences=True),\n",
    "    Dropout(0.2),\n",
    "    LSTM(64),\n",
    "    Dropout(0.2),\n",
    "    Dense(64, activation='relu'),\n",
    "    Dense(5, activation='softmax')  \n",
    "])\n"
   ]
  },
  {
   "cell_type": "code",
   "execution_count": 38,
   "metadata": {
    "execution": {
     "iopub.execute_input": "2024-11-21T15:19:15.671742Z",
     "iopub.status.busy": "2024-11-21T15:19:15.670694Z",
     "iopub.status.idle": "2024-11-21T15:19:15.679540Z",
     "shell.execute_reply": "2024-11-21T15:19:15.678590Z",
     "shell.execute_reply.started": "2024-11-21T15:19:15.671709Z"
    }
   },
   "outputs": [],
   "source": [
    "model.compile(optimizer='adam', loss='sparse_categorical_crossentropy', metrics=['accuracy'])"
   ]
  },
  {
   "cell_type": "code",
   "execution_count": 39,
   "metadata": {
    "execution": {
     "iopub.execute_input": "2024-11-21T15:19:32.419526Z",
     "iopub.status.busy": "2024-11-21T15:19:32.419153Z",
     "iopub.status.idle": "2024-11-21T15:36:54.015228Z",
     "shell.execute_reply": "2024-11-21T15:36:54.014520Z",
     "shell.execute_reply.started": "2024-11-21T15:19:32.419495Z"
    }
   },
   "outputs": [
    {
     "name": "stdout",
     "output_type": "stream",
     "text": [
      "Epoch 1/10\n",
      "\u001b[1m1563/1563\u001b[0m \u001b[32m━━━━━━━━━━━━━━━━━━━━\u001b[0m\u001b[37m\u001b[0m \u001b[1m108s\u001b[0m 67ms/step - accuracy: 0.5320 - loss: 1.0782 - val_accuracy: 0.0356 - val_loss: 2.4025\n",
      "Epoch 2/10\n",
      "\u001b[1m1563/1563\u001b[0m \u001b[32m━━━━━━━━━━━━━━━━━━━━\u001b[0m\u001b[37m\u001b[0m \u001b[1m104s\u001b[0m 66ms/step - accuracy: 0.5808 - loss: 1.0012 - val_accuracy: 0.4576 - val_loss: 1.7170\n",
      "Epoch 3/10\n",
      "\u001b[1m1563/1563\u001b[0m \u001b[32m━━━━━━━━━━━━━━━━━━━━\u001b[0m\u001b[37m\u001b[0m \u001b[1m104s\u001b[0m 66ms/step - accuracy: 0.7398 - loss: 0.6829 - val_accuracy: 0.5144 - val_loss: 1.4300\n",
      "Epoch 4/10\n",
      "\u001b[1m1563/1563\u001b[0m \u001b[32m━━━━━━━━━━━━━━━━━━━━\u001b[0m\u001b[37m\u001b[0m \u001b[1m104s\u001b[0m 66ms/step - accuracy: 0.7807 - loss: 0.5940 - val_accuracy: 0.0000e+00 - val_loss: 2.5615\n",
      "Epoch 5/10\n",
      "\u001b[1m1563/1563\u001b[0m \u001b[32m━━━━━━━━━━━━━━━━━━━━\u001b[0m\u001b[37m\u001b[0m \u001b[1m104s\u001b[0m 66ms/step - accuracy: 0.2635 - loss: 1.5018 - val_accuracy: 0.1347 - val_loss: 2.6081\n",
      "Epoch 6/10\n",
      "\u001b[1m1563/1563\u001b[0m \u001b[32m━━━━━━━━━━━━━━━━━━━━\u001b[0m\u001b[37m\u001b[0m \u001b[1m104s\u001b[0m 66ms/step - accuracy: 0.6599 - loss: 0.8368 - val_accuracy: 0.6440 - val_loss: 1.1588\n",
      "Epoch 7/10\n",
      "\u001b[1m1563/1563\u001b[0m \u001b[32m━━━━━━━━━━━━━━━━━━━━\u001b[0m\u001b[37m\u001b[0m \u001b[1m104s\u001b[0m 66ms/step - accuracy: 0.7763 - loss: 0.5648 - val_accuracy: 0.7394 - val_loss: 0.8672\n",
      "Epoch 8/10\n",
      "\u001b[1m1563/1563\u001b[0m \u001b[32m━━━━━━━━━━━━━━━━━━━━\u001b[0m\u001b[37m\u001b[0m \u001b[1m104s\u001b[0m 66ms/step - accuracy: 0.8300 - loss: 0.4541 - val_accuracy: 0.7198 - val_loss: 0.9259\n",
      "Epoch 9/10\n",
      "\u001b[1m1563/1563\u001b[0m \u001b[32m━━━━━━━━━━━━━━━━━━━━\u001b[0m\u001b[37m\u001b[0m \u001b[1m104s\u001b[0m 66ms/step - accuracy: 0.8652 - loss: 0.3719 - val_accuracy: 0.8188 - val_loss: 0.5848\n",
      "Epoch 10/10\n",
      "\u001b[1m1563/1563\u001b[0m \u001b[32m━━━━━━━━━━━━━━━━━━━━\u001b[0m\u001b[37m\u001b[0m \u001b[1m104s\u001b[0m 66ms/step - accuracy: 0.8898 - loss: 0.3082 - val_accuracy: 0.8263 - val_loss: 0.5918\n"
     ]
    }
   ],
   "source": [
    "X_train_balanced_np = X_train_balanced.to_numpy()  \n",
    "X_train_balanced_reshaped = X_train_balanced_np.reshape(X_train_balanced_np.shape[0], X_train_balanced_np.shape[1], 1)\n",
    "\n",
    "\n",
    "history = model.fit(\n",
    "    X_train_balanced_reshaped, \n",
    "    y_train_balanced,          \n",
    "    epochs=10,\n",
    "    batch_size=64,\n",
    "    validation_split=0.2\n",
    ")\n"
   ]
  },
  {
   "cell_type": "markdown",
   "metadata": {},
   "source": [
    "# Hybrid Model 1D CNN and GRU "
   ]
  },
  {
   "cell_type": "code",
   "execution_count": 42,
   "metadata": {
    "execution": {
     "iopub.execute_input": "2024-11-21T15:41:19.399750Z",
     "iopub.status.busy": "2024-11-21T15:41:19.399049Z",
     "iopub.status.idle": "2024-11-21T15:41:19.465712Z",
     "shell.execute_reply": "2024-11-21T15:41:19.464936Z",
     "shell.execute_reply.started": "2024-11-21T15:41:19.399716Z"
    }
   },
   "outputs": [
    {
     "name": "stderr",
     "output_type": "stream",
     "text": [
      "/opt/conda/lib/python3.10/site-packages/keras/src/layers/convolutional/base_conv.py:107: UserWarning: Do not pass an `input_shape`/`input_dim` argument to a layer. When using Sequential models, prefer using an `Input(shape)` object as the first layer in the model instead.\n",
      "  super().__init__(activity_regularizer=activity_regularizer, **kwargs)\n",
      "/opt/conda/lib/python3.10/site-packages/keras/src/optimizers/base_optimizer.py:33: UserWarning: Argument `decay` is no longer supported and will be ignored.\n",
      "  warnings.warn(\n"
     ]
    },
    {
     "data": {
      "text/html": [
       "<pre style=\"white-space:pre;overflow-x:auto;line-height:normal;font-family:Menlo,'DejaVu Sans Mono',consolas,'Courier New',monospace\"><span style=\"font-weight: bold\">Model: \"sequential_1\"</span>\n",
       "</pre>\n"
      ],
      "text/plain": [
       "\u001b[1mModel: \"sequential_1\"\u001b[0m\n"
      ]
     },
     "metadata": {},
     "output_type": "display_data"
    },
    {
     "data": {
      "text/html": [
       "<pre style=\"white-space:pre;overflow-x:auto;line-height:normal;font-family:Menlo,'DejaVu Sans Mono',consolas,'Courier New',monospace\">┏━━━━━━━━━━━━━━━━━━━━━━━━━━━━━━━━━┳━━━━━━━━━━━━━━━━━━━━━━━━┳━━━━━━━━━━━━━━━┓\n",
       "┃<span style=\"font-weight: bold\"> Layer (type)                    </span>┃<span style=\"font-weight: bold\"> Output Shape           </span>┃<span style=\"font-weight: bold\">       Param # </span>┃\n",
       "┡━━━━━━━━━━━━━━━━━━━━━━━━━━━━━━━━━╇━━━━━━━━━━━━━━━━━━━━━━━━╇━━━━━━━━━━━━━━━┩\n",
       "│ conv1d (<span style=\"color: #0087ff; text-decoration-color: #0087ff\">Conv1D</span>)                 │ (<span style=\"color: #00d7ff; text-decoration-color: #00d7ff\">None</span>, <span style=\"color: #00af00; text-decoration-color: #00af00\">176</span>, <span style=\"color: #00af00; text-decoration-color: #00af00\">64</span>)        │           <span style=\"color: #00af00; text-decoration-color: #00af00\">384</span> │\n",
       "├─────────────────────────────────┼────────────────────────┼───────────────┤\n",
       "│ gru (<span style=\"color: #0087ff; text-decoration-color: #0087ff\">GRU</span>)                       │ (<span style=\"color: #00d7ff; text-decoration-color: #00d7ff\">None</span>, <span style=\"color: #00af00; text-decoration-color: #00af00\">64</span>)             │        <span style=\"color: #00af00; text-decoration-color: #00af00\">24,960</span> │\n",
       "├─────────────────────────────────┼────────────────────────┼───────────────┤\n",
       "│ dropout_2 (<span style=\"color: #0087ff; text-decoration-color: #0087ff\">Dropout</span>)             │ (<span style=\"color: #00d7ff; text-decoration-color: #00d7ff\">None</span>, <span style=\"color: #00af00; text-decoration-color: #00af00\">64</span>)             │             <span style=\"color: #00af00; text-decoration-color: #00af00\">0</span> │\n",
       "├─────────────────────────────────┼────────────────────────┼───────────────┤\n",
       "│ dense_2 (<span style=\"color: #0087ff; text-decoration-color: #0087ff\">Dense</span>)                 │ (<span style=\"color: #00d7ff; text-decoration-color: #00d7ff\">None</span>, <span style=\"color: #00af00; text-decoration-color: #00af00\">5</span>)              │           <span style=\"color: #00af00; text-decoration-color: #00af00\">325</span> │\n",
       "└─────────────────────────────────┴────────────────────────┴───────────────┘\n",
       "</pre>\n"
      ],
      "text/plain": [
       "┏━━━━━━━━━━━━━━━━━━━━━━━━━━━━━━━━━┳━━━━━━━━━━━━━━━━━━━━━━━━┳━━━━━━━━━━━━━━━┓\n",
       "┃\u001b[1m \u001b[0m\u001b[1mLayer (type)                   \u001b[0m\u001b[1m \u001b[0m┃\u001b[1m \u001b[0m\u001b[1mOutput Shape          \u001b[0m\u001b[1m \u001b[0m┃\u001b[1m \u001b[0m\u001b[1m      Param #\u001b[0m\u001b[1m \u001b[0m┃\n",
       "┡━━━━━━━━━━━━━━━━━━━━━━━━━━━━━━━━━╇━━━━━━━━━━━━━━━━━━━━━━━━╇━━━━━━━━━━━━━━━┩\n",
       "│ conv1d (\u001b[38;5;33mConv1D\u001b[0m)                 │ (\u001b[38;5;45mNone\u001b[0m, \u001b[38;5;34m176\u001b[0m, \u001b[38;5;34m64\u001b[0m)        │           \u001b[38;5;34m384\u001b[0m │\n",
       "├─────────────────────────────────┼────────────────────────┼───────────────┤\n",
       "│ gru (\u001b[38;5;33mGRU\u001b[0m)                       │ (\u001b[38;5;45mNone\u001b[0m, \u001b[38;5;34m64\u001b[0m)             │        \u001b[38;5;34m24,960\u001b[0m │\n",
       "├─────────────────────────────────┼────────────────────────┼───────────────┤\n",
       "│ dropout_2 (\u001b[38;5;33mDropout\u001b[0m)             │ (\u001b[38;5;45mNone\u001b[0m, \u001b[38;5;34m64\u001b[0m)             │             \u001b[38;5;34m0\u001b[0m │\n",
       "├─────────────────────────────────┼────────────────────────┼───────────────┤\n",
       "│ dense_2 (\u001b[38;5;33mDense\u001b[0m)                 │ (\u001b[38;5;45mNone\u001b[0m, \u001b[38;5;34m5\u001b[0m)              │           \u001b[38;5;34m325\u001b[0m │\n",
       "└─────────────────────────────────┴────────────────────────┴───────────────┘\n"
      ]
     },
     "metadata": {},
     "output_type": "display_data"
    },
    {
     "data": {
      "text/html": [
       "<pre style=\"white-space:pre;overflow-x:auto;line-height:normal;font-family:Menlo,'DejaVu Sans Mono',consolas,'Courier New',monospace\"><span style=\"font-weight: bold\"> Total params: </span><span style=\"color: #00af00; text-decoration-color: #00af00\">25,669</span> (100.27 KB)\n",
       "</pre>\n"
      ],
      "text/plain": [
       "\u001b[1m Total params: \u001b[0m\u001b[38;5;34m25,669\u001b[0m (100.27 KB)\n"
      ]
     },
     "metadata": {},
     "output_type": "display_data"
    },
    {
     "data": {
      "text/html": [
       "<pre style=\"white-space:pre;overflow-x:auto;line-height:normal;font-family:Menlo,'DejaVu Sans Mono',consolas,'Courier New',monospace\"><span style=\"font-weight: bold\"> Trainable params: </span><span style=\"color: #00af00; text-decoration-color: #00af00\">25,669</span> (100.27 KB)\n",
       "</pre>\n"
      ],
      "text/plain": [
       "\u001b[1m Trainable params: \u001b[0m\u001b[38;5;34m25,669\u001b[0m (100.27 KB)\n"
      ]
     },
     "metadata": {},
     "output_type": "display_data"
    },
    {
     "data": {
      "text/html": [
       "<pre style=\"white-space:pre;overflow-x:auto;line-height:normal;font-family:Menlo,'DejaVu Sans Mono',consolas,'Courier New',monospace\"><span style=\"font-weight: bold\"> Non-trainable params: </span><span style=\"color: #00af00; text-decoration-color: #00af00\">0</span> (0.00 B)\n",
       "</pre>\n"
      ],
      "text/plain": [
       "\u001b[1m Non-trainable params: \u001b[0m\u001b[38;5;34m0\u001b[0m (0.00 B)\n"
      ]
     },
     "metadata": {},
     "output_type": "display_data"
    }
   ],
   "source": [
    "import tensorflow as tf\n",
    "from tensorflow.keras.models import Sequential\n",
    "from tensorflow.keras.layers import Conv1D, GRU, Dropout, Dense, Flatten\n",
    "from tensorflow.keras.optimizers import Adam\n",
    "\n",
    "model = Sequential()\n",
    "\n",
    "#  1D CNN\n",
    "model.add(Conv1D(filters=64, kernel_size=5, activation='relu', input_shape=(180, 1)))  # Adjust input_shape based on data\n",
    "\n",
    "#  GRU\n",
    "model.add(GRU(units=64, return_sequences=False, activation='tanh'))\n",
    "\n",
    "#  Dropout\n",
    "model.add(Dropout(0.2))\n",
    "\n",
    "# output layer\n",
    "model.add(Dense(5, activation='softmax'))  \n",
    "\n",
    "optimizer = Adam(learning_rate=0.001, decay=1e-6)\n",
    "model.compile(optimizer=optimizer, loss='sparse_categorical_crossentropy', metrics=['accuracy'])\n",
    "\n",
    "model.summary()\n"
   ]
  },
  {
   "cell_type": "code",
   "execution_count": 44,
   "metadata": {
    "execution": {
     "iopub.execute_input": "2024-11-21T15:44:41.175794Z",
     "iopub.status.busy": "2024-11-21T15:44:41.175455Z",
     "iopub.status.idle": "2024-11-21T15:45:51.844511Z",
     "shell.execute_reply": "2024-11-21T15:45:51.843736Z",
     "shell.execute_reply.started": "2024-11-21T15:44:41.175764Z"
    }
   },
   "outputs": [
    {
     "name": "stdout",
     "output_type": "stream",
     "text": [
      "Epoch 1/20\n",
      "\u001b[1m196/196\u001b[0m \u001b[32m━━━━━━━━━━━━━━━━━━━━\u001b[0m\u001b[37m\u001b[0m \u001b[1m4s\u001b[0m 18ms/step - accuracy: 0.9799 - loss: 0.0632 - val_accuracy: 0.9434 - val_loss: 0.2097\n",
      "Epoch 2/20\n",
      "\u001b[1m196/196\u001b[0m \u001b[32m━━━━━━━━━━━━━━━━━━━━\u001b[0m\u001b[37m\u001b[0m \u001b[1m3s\u001b[0m 17ms/step - accuracy: 0.9806 - loss: 0.0610 - val_accuracy: 0.9198 - val_loss: 0.2862\n",
      "Epoch 3/20\n",
      "\u001b[1m196/196\u001b[0m \u001b[32m━━━━━━━━━━━━━━━━━━━━\u001b[0m\u001b[37m\u001b[0m \u001b[1m3s\u001b[0m 18ms/step - accuracy: 0.9755 - loss: 0.0756 - val_accuracy: 0.9300 - val_loss: 0.2431\n",
      "Epoch 4/20\n",
      "\u001b[1m196/196\u001b[0m \u001b[32m━━━━━━━━━━━━━━━━━━━━\u001b[0m\u001b[37m\u001b[0m \u001b[1m3s\u001b[0m 18ms/step - accuracy: 0.9778 - loss: 0.0709 - val_accuracy: 0.9410 - val_loss: 0.2109\n",
      "Epoch 5/20\n",
      "\u001b[1m196/196\u001b[0m \u001b[32m━━━━━━━━━━━━━━━━━━━━\u001b[0m\u001b[37m\u001b[0m \u001b[1m3s\u001b[0m 18ms/step - accuracy: 0.9821 - loss: 0.0572 - val_accuracy: 0.9366 - val_loss: 0.2345\n",
      "Epoch 6/20\n",
      "\u001b[1m196/196\u001b[0m \u001b[32m━━━━━━━━━━━━━━━━━━━━\u001b[0m\u001b[37m\u001b[0m \u001b[1m4s\u001b[0m 18ms/step - accuracy: 0.9817 - loss: 0.0595 - val_accuracy: 0.9402 - val_loss: 0.2120\n",
      "Epoch 7/20\n",
      "\u001b[1m196/196\u001b[0m \u001b[32m━━━━━━━━━━━━━━━━━━━━\u001b[0m\u001b[37m\u001b[0m \u001b[1m4s\u001b[0m 18ms/step - accuracy: 0.9830 - loss: 0.0546 - val_accuracy: 0.9309 - val_loss: 0.2714\n",
      "Epoch 8/20\n",
      "\u001b[1m196/196\u001b[0m \u001b[32m━━━━━━━━━━━━━━━━━━━━\u001b[0m\u001b[37m\u001b[0m \u001b[1m4s\u001b[0m 18ms/step - accuracy: 0.9790 - loss: 0.0665 - val_accuracy: 0.9463 - val_loss: 0.1936\n",
      "Epoch 9/20\n",
      "\u001b[1m196/196\u001b[0m \u001b[32m━━━━━━━━━━━━━━━━━━━━\u001b[0m\u001b[37m\u001b[0m \u001b[1m4s\u001b[0m 18ms/step - accuracy: 0.9854 - loss: 0.0501 - val_accuracy: 0.9519 - val_loss: 0.1647\n",
      "Epoch 10/20\n",
      "\u001b[1m196/196\u001b[0m \u001b[32m━━━━━━━━━━━━━━━━━━━━\u001b[0m\u001b[37m\u001b[0m \u001b[1m4s\u001b[0m 18ms/step - accuracy: 0.9847 - loss: 0.0496 - val_accuracy: 0.9474 - val_loss: 0.1869\n",
      "Epoch 11/20\n",
      "\u001b[1m196/196\u001b[0m \u001b[32m━━━━━━━━━━━━━━━━━━━━\u001b[0m\u001b[37m\u001b[0m \u001b[1m4s\u001b[0m 18ms/step - accuracy: 0.9828 - loss: 0.0564 - val_accuracy: 0.9398 - val_loss: 0.2132\n",
      "Epoch 12/20\n",
      "\u001b[1m196/196\u001b[0m \u001b[32m━━━━━━━━━━━━━━━━━━━━\u001b[0m\u001b[37m\u001b[0m \u001b[1m4s\u001b[0m 18ms/step - accuracy: 0.9837 - loss: 0.0531 - val_accuracy: 0.9386 - val_loss: 0.2218\n",
      "Epoch 13/20\n",
      "\u001b[1m196/196\u001b[0m \u001b[32m━━━━━━━━━━━━━━━━━━━━\u001b[0m\u001b[37m\u001b[0m \u001b[1m4s\u001b[0m 18ms/step - accuracy: 0.9863 - loss: 0.0447 - val_accuracy: 0.9181 - val_loss: 0.3220\n",
      "Epoch 14/20\n",
      "\u001b[1m196/196\u001b[0m \u001b[32m━━━━━━━━━━━━━━━━━━━━\u001b[0m\u001b[37m\u001b[0m \u001b[1m4s\u001b[0m 18ms/step - accuracy: 0.9846 - loss: 0.0520 - val_accuracy: 0.9482 - val_loss: 0.1912\n",
      "Epoch 15/20\n",
      "\u001b[1m196/196\u001b[0m \u001b[32m━━━━━━━━━━━━━━━━━━━━\u001b[0m\u001b[37m\u001b[0m \u001b[1m3s\u001b[0m 18ms/step - accuracy: 0.9838 - loss: 0.0515 - val_accuracy: 0.9338 - val_loss: 0.2510\n",
      "Epoch 16/20\n",
      "\u001b[1m196/196\u001b[0m \u001b[32m━━━━━━━━━━━━━━━━━━━━\u001b[0m\u001b[37m\u001b[0m \u001b[1m3s\u001b[0m 18ms/step - accuracy: 0.9850 - loss: 0.0493 - val_accuracy: 0.9480 - val_loss: 0.1916\n",
      "Epoch 17/20\n",
      "\u001b[1m196/196\u001b[0m \u001b[32m━━━━━━━━━━━━━━━━━━━━\u001b[0m\u001b[37m\u001b[0m \u001b[1m3s\u001b[0m 18ms/step - accuracy: 0.9858 - loss: 0.0462 - val_accuracy: 0.9461 - val_loss: 0.1869\n",
      "Epoch 18/20\n",
      "\u001b[1m196/196\u001b[0m \u001b[32m━━━━━━━━━━━━━━━━━━━━\u001b[0m\u001b[37m\u001b[0m \u001b[1m3s\u001b[0m 17ms/step - accuracy: 0.9860 - loss: 0.0462 - val_accuracy: 0.9570 - val_loss: 0.1548\n",
      "Epoch 19/20\n",
      "\u001b[1m196/196\u001b[0m \u001b[32m━━━━━━━━━━━━━━━━━━━━\u001b[0m\u001b[37m\u001b[0m \u001b[1m3s\u001b[0m 18ms/step - accuracy: 0.9867 - loss: 0.0425 - val_accuracy: 0.9380 - val_loss: 0.2275\n",
      "Epoch 20/20\n",
      "\u001b[1m196/196\u001b[0m \u001b[32m━━━━━━━━━━━━━━━━━━━━\u001b[0m\u001b[37m\u001b[0m \u001b[1m3s\u001b[0m 18ms/step - accuracy: 0.9861 - loss: 0.0465 - val_accuracy: 0.9533 - val_loss: 0.1707\n"
     ]
    }
   ],
   "source": [
    "history = model.fit(\n",
    "    X_train_balanced_reshaped,  \n",
    "    y_train_balanced,           \n",
    "    batch_size=512,\n",
    "    epochs=20,\n",
    "    validation_split=0.2\n",
    ")"
   ]
  },
  {
   "cell_type": "code",
   "execution_count": 47,
   "metadata": {
    "execution": {
     "iopub.execute_input": "2024-11-21T15:48:05.639652Z",
     "iopub.status.busy": "2024-11-21T15:48:05.639305Z",
     "iopub.status.idle": "2024-11-21T15:48:05.650966Z",
     "shell.execute_reply": "2024-11-21T15:48:05.650124Z",
     "shell.execute_reply.started": "2024-11-21T15:48:05.639622Z"
    }
   },
   "outputs": [],
   "source": [
    "import numpy as np\n",
    "X_test = np.array(X_test)\n",
    "X_test_reshaped = X_test.reshape((X_test.shape[0], X_test.shape[1], 1))\n"
   ]
  },
  {
   "cell_type": "code",
   "execution_count": 48,
   "metadata": {
    "execution": {
     "iopub.execute_input": "2024-11-21T15:48:32.922343Z",
     "iopub.status.busy": "2024-11-21T15:48:32.921968Z",
     "iopub.status.idle": "2024-11-21T15:48:33.478910Z",
     "shell.execute_reply": "2024-11-21T15:48:33.478109Z",
     "shell.execute_reply.started": "2024-11-21T15:48:32.922312Z"
    }
   },
   "outputs": [
    {
     "name": "stdout",
     "output_type": "stream",
     "text": [
      "\u001b[1m53/53\u001b[0m \u001b[32m━━━━━━━━━━━━━━━━━━━━\u001b[0m\u001b[37m\u001b[0m \u001b[1m0s\u001b[0m 9ms/step - accuracy: 0.9583 - loss: 0.1429\n",
      "Test Loss: 0.14174430072307587\n",
      "Test Accuracy: 0.9581725001335144\n"
     ]
    }
   ],
   "source": [
    "loss, accuracy = model.evaluate(X_test_reshaped, y_test, batch_size=512)\n",
    "print(f\"Test Loss: {loss}\")\n",
    "print(f\"Test Accuracy: {accuracy}\")\n"
   ]
  },
  {
   "cell_type": "markdown",
   "metadata": {},
   "source": [
    "# GRU "
   ]
  },
  {
   "cell_type": "code",
   "execution_count": 49,
   "metadata": {
    "execution": {
     "iopub.execute_input": "2024-11-21T15:51:30.492865Z",
     "iopub.status.busy": "2024-11-21T15:51:30.492060Z",
     "iopub.status.idle": "2024-11-21T15:53:26.670739Z",
     "shell.execute_reply": "2024-11-21T15:53:26.670058Z",
     "shell.execute_reply.started": "2024-11-21T15:51:30.492834Z"
    }
   },
   "outputs": [
    {
     "name": "stderr",
     "output_type": "stream",
     "text": [
      "/opt/conda/lib/python3.10/site-packages/keras/src/layers/rnn/rnn.py:204: UserWarning: Do not pass an `input_shape`/`input_dim` argument to a layer. When using Sequential models, prefer using an `Input(shape)` object as the first layer in the model instead.\n",
      "  super().__init__(**kwargs)\n",
      "/opt/conda/lib/python3.10/site-packages/keras/src/optimizers/base_optimizer.py:33: UserWarning: Argument `decay` is no longer supported and will be ignored.\n",
      "  warnings.warn(\n"
     ]
    },
    {
     "data": {
      "text/html": [
       "<pre style=\"white-space:pre;overflow-x:auto;line-height:normal;font-family:Menlo,'DejaVu Sans Mono',consolas,'Courier New',monospace\"><span style=\"font-weight: bold\">Model: \"sequential_2\"</span>\n",
       "</pre>\n"
      ],
      "text/plain": [
       "\u001b[1mModel: \"sequential_2\"\u001b[0m\n"
      ]
     },
     "metadata": {},
     "output_type": "display_data"
    },
    {
     "data": {
      "text/html": [
       "<pre style=\"white-space:pre;overflow-x:auto;line-height:normal;font-family:Menlo,'DejaVu Sans Mono',consolas,'Courier New',monospace\">┏━━━━━━━━━━━━━━━━━━━━━━━━━━━━━━━━━┳━━━━━━━━━━━━━━━━━━━━━━━━┳━━━━━━━━━━━━━━━┓\n",
       "┃<span style=\"font-weight: bold\"> Layer (type)                    </span>┃<span style=\"font-weight: bold\"> Output Shape           </span>┃<span style=\"font-weight: bold\">       Param # </span>┃\n",
       "┡━━━━━━━━━━━━━━━━━━━━━━━━━━━━━━━━━╇━━━━━━━━━━━━━━━━━━━━━━━━╇━━━━━━━━━━━━━━━┩\n",
       "│ gru_1 (<span style=\"color: #0087ff; text-decoration-color: #0087ff\">GRU</span>)                     │ (<span style=\"color: #00d7ff; text-decoration-color: #00d7ff\">None</span>, <span style=\"color: #00af00; text-decoration-color: #00af00\">64</span>)             │        <span style=\"color: #00af00; text-decoration-color: #00af00\">12,864</span> │\n",
       "├─────────────────────────────────┼────────────────────────┼───────────────┤\n",
       "│ dropout_3 (<span style=\"color: #0087ff; text-decoration-color: #0087ff\">Dropout</span>)             │ (<span style=\"color: #00d7ff; text-decoration-color: #00d7ff\">None</span>, <span style=\"color: #00af00; text-decoration-color: #00af00\">64</span>)             │             <span style=\"color: #00af00; text-decoration-color: #00af00\">0</span> │\n",
       "├─────────────────────────────────┼────────────────────────┼───────────────┤\n",
       "│ dense_3 (<span style=\"color: #0087ff; text-decoration-color: #0087ff\">Dense</span>)                 │ (<span style=\"color: #00d7ff; text-decoration-color: #00d7ff\">None</span>, <span style=\"color: #00af00; text-decoration-color: #00af00\">5</span>)              │           <span style=\"color: #00af00; text-decoration-color: #00af00\">325</span> │\n",
       "└─────────────────────────────────┴────────────────────────┴───────────────┘\n",
       "</pre>\n"
      ],
      "text/plain": [
       "┏━━━━━━━━━━━━━━━━━━━━━━━━━━━━━━━━━┳━━━━━━━━━━━━━━━━━━━━━━━━┳━━━━━━━━━━━━━━━┓\n",
       "┃\u001b[1m \u001b[0m\u001b[1mLayer (type)                   \u001b[0m\u001b[1m \u001b[0m┃\u001b[1m \u001b[0m\u001b[1mOutput Shape          \u001b[0m\u001b[1m \u001b[0m┃\u001b[1m \u001b[0m\u001b[1m      Param #\u001b[0m\u001b[1m \u001b[0m┃\n",
       "┡━━━━━━━━━━━━━━━━━━━━━━━━━━━━━━━━━╇━━━━━━━━━━━━━━━━━━━━━━━━╇━━━━━━━━━━━━━━━┩\n",
       "│ gru_1 (\u001b[38;5;33mGRU\u001b[0m)                     │ (\u001b[38;5;45mNone\u001b[0m, \u001b[38;5;34m64\u001b[0m)             │        \u001b[38;5;34m12,864\u001b[0m │\n",
       "├─────────────────────────────────┼────────────────────────┼───────────────┤\n",
       "│ dropout_3 (\u001b[38;5;33mDropout\u001b[0m)             │ (\u001b[38;5;45mNone\u001b[0m, \u001b[38;5;34m64\u001b[0m)             │             \u001b[38;5;34m0\u001b[0m │\n",
       "├─────────────────────────────────┼────────────────────────┼───────────────┤\n",
       "│ dense_3 (\u001b[38;5;33mDense\u001b[0m)                 │ (\u001b[38;5;45mNone\u001b[0m, \u001b[38;5;34m5\u001b[0m)              │           \u001b[38;5;34m325\u001b[0m │\n",
       "└─────────────────────────────────┴────────────────────────┴───────────────┘\n"
      ]
     },
     "metadata": {},
     "output_type": "display_data"
    },
    {
     "data": {
      "text/html": [
       "<pre style=\"white-space:pre;overflow-x:auto;line-height:normal;font-family:Menlo,'DejaVu Sans Mono',consolas,'Courier New',monospace\"><span style=\"font-weight: bold\"> Total params: </span><span style=\"color: #00af00; text-decoration-color: #00af00\">13,189</span> (51.52 KB)\n",
       "</pre>\n"
      ],
      "text/plain": [
       "\u001b[1m Total params: \u001b[0m\u001b[38;5;34m13,189\u001b[0m (51.52 KB)\n"
      ]
     },
     "metadata": {},
     "output_type": "display_data"
    },
    {
     "data": {
      "text/html": [
       "<pre style=\"white-space:pre;overflow-x:auto;line-height:normal;font-family:Menlo,'DejaVu Sans Mono',consolas,'Courier New',monospace\"><span style=\"font-weight: bold\"> Trainable params: </span><span style=\"color: #00af00; text-decoration-color: #00af00\">13,189</span> (51.52 KB)\n",
       "</pre>\n"
      ],
      "text/plain": [
       "\u001b[1m Trainable params: \u001b[0m\u001b[38;5;34m13,189\u001b[0m (51.52 KB)\n"
      ]
     },
     "metadata": {},
     "output_type": "display_data"
    },
    {
     "data": {
      "text/html": [
       "<pre style=\"white-space:pre;overflow-x:auto;line-height:normal;font-family:Menlo,'DejaVu Sans Mono',consolas,'Courier New',monospace\"><span style=\"font-weight: bold\"> Non-trainable params: </span><span style=\"color: #00af00; text-decoration-color: #00af00\">0</span> (0.00 B)\n",
       "</pre>\n"
      ],
      "text/plain": [
       "\u001b[1m Non-trainable params: \u001b[0m\u001b[38;5;34m0\u001b[0m (0.00 B)\n"
      ]
     },
     "metadata": {},
     "output_type": "display_data"
    },
    {
     "name": "stdout",
     "output_type": "stream",
     "text": [
      "Epoch 1/40\n",
      "\u001b[1m196/196\u001b[0m \u001b[32m━━━━━━━━━━━━━━━━━━━━\u001b[0m\u001b[37m\u001b[0m \u001b[1m4s\u001b[0m 16ms/step - accuracy: 0.3052 - loss: 1.4711 - val_accuracy: 0.3220 - val_loss: 2.0000\n",
      "Epoch 2/40\n",
      "\u001b[1m196/196\u001b[0m \u001b[32m━━━━━━━━━━━━━━━━━━━━\u001b[0m\u001b[37m\u001b[0m \u001b[1m3s\u001b[0m 15ms/step - accuracy: 0.6764 - loss: 0.8407 - val_accuracy: 0.4360 - val_loss: 1.8029\n",
      "Epoch 3/40\n",
      "\u001b[1m196/196\u001b[0m \u001b[32m━━━━━━━━━━━━━━━━━━━━\u001b[0m\u001b[37m\u001b[0m \u001b[1m3s\u001b[0m 15ms/step - accuracy: 0.7362 - loss: 0.7023 - val_accuracy: 0.4793 - val_loss: 1.6856\n",
      "Epoch 4/40\n",
      "\u001b[1m196/196\u001b[0m \u001b[32m━━━━━━━━━━━━━━━━━━━━\u001b[0m\u001b[37m\u001b[0m \u001b[1m3s\u001b[0m 16ms/step - accuracy: 0.7606 - loss: 0.6466 - val_accuracy: 0.4374 - val_loss: 1.8225\n",
      "Epoch 5/40\n",
      "\u001b[1m196/196\u001b[0m \u001b[32m━━━━━━━━━━━━━━━━━━━━\u001b[0m\u001b[37m\u001b[0m \u001b[1m3s\u001b[0m 16ms/step - accuracy: 0.7756 - loss: 0.6001 - val_accuracy: 0.5006 - val_loss: 1.5844\n",
      "Epoch 6/40\n",
      "\u001b[1m196/196\u001b[0m \u001b[32m━━━━━━━━━━━━━━━━━━━━\u001b[0m\u001b[37m\u001b[0m \u001b[1m3s\u001b[0m 15ms/step - accuracy: 0.7929 - loss: 0.5611 - val_accuracy: 0.4902 - val_loss: 1.5841\n",
      "Epoch 7/40\n",
      "\u001b[1m196/196\u001b[0m \u001b[32m━━━━━━━━━━━━━━━━━━━━\u001b[0m\u001b[37m\u001b[0m \u001b[1m3s\u001b[0m 15ms/step - accuracy: 0.8082 - loss: 0.5259 - val_accuracy: 0.5104 - val_loss: 1.4465\n",
      "Epoch 8/40\n",
      "\u001b[1m196/196\u001b[0m \u001b[32m━━━━━━━━━━━━━━━━━━━━\u001b[0m\u001b[37m\u001b[0m \u001b[1m3s\u001b[0m 15ms/step - accuracy: 0.8241 - loss: 0.4876 - val_accuracy: 0.5369 - val_loss: 1.2792\n",
      "Epoch 9/40\n",
      "\u001b[1m196/196\u001b[0m \u001b[32m━━━━━━━━━━━━━━━━━━━━\u001b[0m\u001b[37m\u001b[0m \u001b[1m3s\u001b[0m 15ms/step - accuracy: 0.8385 - loss: 0.4583 - val_accuracy: 0.5862 - val_loss: 1.1765\n",
      "Epoch 10/40\n",
      "\u001b[1m196/196\u001b[0m \u001b[32m━━━━━━━━━━━━━━━━━━━━\u001b[0m\u001b[37m\u001b[0m \u001b[1m3s\u001b[0m 14ms/step - accuracy: 0.8532 - loss: 0.4303 - val_accuracy: 0.5948 - val_loss: 1.1978\n",
      "Epoch 11/40\n",
      "\u001b[1m196/196\u001b[0m \u001b[32m━━━━━━━━━━━━━━━━━━━━\u001b[0m\u001b[37m\u001b[0m \u001b[1m3s\u001b[0m 14ms/step - accuracy: 0.8632 - loss: 0.4064 - val_accuracy: 0.5802 - val_loss: 1.2636\n",
      "Epoch 12/40\n",
      "\u001b[1m196/196\u001b[0m \u001b[32m━━━━━━━━━━━━━━━━━━━━\u001b[0m\u001b[37m\u001b[0m \u001b[1m3s\u001b[0m 14ms/step - accuracy: 0.8673 - loss: 0.3943 - val_accuracy: 0.6562 - val_loss: 1.0689\n",
      "Epoch 13/40\n",
      "\u001b[1m196/196\u001b[0m \u001b[32m━━━━━━━━━━━━━━━━━━━━\u001b[0m\u001b[37m\u001b[0m \u001b[1m3s\u001b[0m 14ms/step - accuracy: 0.8767 - loss: 0.3649 - val_accuracy: 0.6789 - val_loss: 0.9960\n",
      "Epoch 14/40\n",
      "\u001b[1m196/196\u001b[0m \u001b[32m━━━━━━━━━━━━━━━━━━━━\u001b[0m\u001b[37m\u001b[0m \u001b[1m3s\u001b[0m 14ms/step - accuracy: 0.8627 - loss: 0.4136 - val_accuracy: 0.6036 - val_loss: 1.2196\n",
      "Epoch 15/40\n",
      "\u001b[1m196/196\u001b[0m \u001b[32m━━━━━━━━━━━━━━━━━━━━\u001b[0m\u001b[37m\u001b[0m \u001b[1m3s\u001b[0m 14ms/step - accuracy: 0.8669 - loss: 0.3972 - val_accuracy: 0.6555 - val_loss: 1.1097\n",
      "Epoch 16/40\n",
      "\u001b[1m196/196\u001b[0m \u001b[32m━━━━━━━━━━━━━━━━━━━━\u001b[0m\u001b[37m\u001b[0m \u001b[1m3s\u001b[0m 14ms/step - accuracy: 0.8861 - loss: 0.3492 - val_accuracy: 0.6811 - val_loss: 1.0148\n",
      "Epoch 17/40\n",
      "\u001b[1m196/196\u001b[0m \u001b[32m━━━━━━━━━━━━━━━━━━━━\u001b[0m\u001b[37m\u001b[0m \u001b[1m3s\u001b[0m 14ms/step - accuracy: 0.8916 - loss: 0.3332 - val_accuracy: 0.6946 - val_loss: 0.9720\n",
      "Epoch 18/40\n",
      "\u001b[1m196/196\u001b[0m \u001b[32m━━━━━━━━━━━━━━━━━━━━\u001b[0m\u001b[37m\u001b[0m \u001b[1m3s\u001b[0m 14ms/step - accuracy: 0.8994 - loss: 0.3136 - val_accuracy: 0.6803 - val_loss: 0.9889\n",
      "Epoch 19/40\n",
      "\u001b[1m196/196\u001b[0m \u001b[32m━━━━━━━━━━━━━━━━━━━━\u001b[0m\u001b[37m\u001b[0m \u001b[1m3s\u001b[0m 14ms/step - accuracy: 0.9038 - loss: 0.3013 - val_accuracy: 0.7312 - val_loss: 0.8760\n",
      "Epoch 20/40\n",
      "\u001b[1m196/196\u001b[0m \u001b[32m━━━━━━━━━━━━━━━━━━━━\u001b[0m\u001b[37m\u001b[0m \u001b[1m3s\u001b[0m 14ms/step - accuracy: 0.9043 - loss: 0.2956 - val_accuracy: 0.7007 - val_loss: 0.9431\n",
      "Epoch 21/40\n",
      "\u001b[1m196/196\u001b[0m \u001b[32m━━━━━━━━━━━━━━━━━━━━\u001b[0m\u001b[37m\u001b[0m \u001b[1m3s\u001b[0m 14ms/step - accuracy: 0.9117 - loss: 0.2754 - val_accuracy: 0.7301 - val_loss: 0.8911\n",
      "Epoch 22/40\n",
      "\u001b[1m196/196\u001b[0m \u001b[32m━━━━━━━━━━━━━━━━━━━━\u001b[0m\u001b[37m\u001b[0m \u001b[1m3s\u001b[0m 14ms/step - accuracy: 0.9089 - loss: 0.2838 - val_accuracy: 0.7168 - val_loss: 0.9227\n",
      "Epoch 23/40\n",
      "\u001b[1m196/196\u001b[0m \u001b[32m━━━━━━━━━━━━━━━━━━━━\u001b[0m\u001b[37m\u001b[0m \u001b[1m3s\u001b[0m 14ms/step - accuracy: 0.9150 - loss: 0.2635 - val_accuracy: 0.7317 - val_loss: 0.8839\n",
      "Epoch 24/40\n",
      "\u001b[1m196/196\u001b[0m \u001b[32m━━━━━━━━━━━━━━━━━━━━\u001b[0m\u001b[37m\u001b[0m \u001b[1m3s\u001b[0m 14ms/step - accuracy: 0.9212 - loss: 0.2479 - val_accuracy: 0.7348 - val_loss: 0.8604\n",
      "Epoch 25/40\n",
      "\u001b[1m196/196\u001b[0m \u001b[32m━━━━━━━━━━━━━━━━━━━━\u001b[0m\u001b[37m\u001b[0m \u001b[1m3s\u001b[0m 14ms/step - accuracy: 0.9183 - loss: 0.2562 - val_accuracy: 0.7426 - val_loss: 0.8527\n",
      "Epoch 26/40\n",
      "\u001b[1m196/196\u001b[0m \u001b[32m━━━━━━━━━━━━━━━━━━━━\u001b[0m\u001b[37m\u001b[0m \u001b[1m3s\u001b[0m 14ms/step - accuracy: 0.9221 - loss: 0.2437 - val_accuracy: 0.7507 - val_loss: 0.7894\n",
      "Epoch 27/40\n",
      "\u001b[1m196/196\u001b[0m \u001b[32m━━━━━━━━━━━━━━━━━━━━\u001b[0m\u001b[37m\u001b[0m \u001b[1m3s\u001b[0m 14ms/step - accuracy: 0.9264 - loss: 0.2283 - val_accuracy: 0.7454 - val_loss: 0.8186\n",
      "Epoch 28/40\n",
      "\u001b[1m196/196\u001b[0m \u001b[32m━━━━━━━━━━━━━━━━━━━━\u001b[0m\u001b[37m\u001b[0m \u001b[1m3s\u001b[0m 14ms/step - accuracy: 0.9243 - loss: 0.2274 - val_accuracy: 0.7683 - val_loss: 0.7379\n",
      "Epoch 29/40\n",
      "\u001b[1m196/196\u001b[0m \u001b[32m━━━━━━━━━━━━━━━━━━━━\u001b[0m\u001b[37m\u001b[0m \u001b[1m3s\u001b[0m 14ms/step - accuracy: 0.9295 - loss: 0.2162 - val_accuracy: 0.7705 - val_loss: 0.6957\n",
      "Epoch 30/40\n",
      "\u001b[1m196/196\u001b[0m \u001b[32m━━━━━━━━━━━━━━━━━━━━\u001b[0m\u001b[37m\u001b[0m \u001b[1m3s\u001b[0m 14ms/step - accuracy: 0.9295 - loss: 0.2127 - val_accuracy: 0.7720 - val_loss: 0.6792\n",
      "Epoch 31/40\n",
      "\u001b[1m196/196\u001b[0m \u001b[32m━━━━━━━━━━━━━━━━━━━━\u001b[0m\u001b[37m\u001b[0m \u001b[1m3s\u001b[0m 15ms/step - accuracy: 0.9298 - loss: 0.2112 - val_accuracy: 0.7737 - val_loss: 0.6521\n",
      "Epoch 32/40\n",
      "\u001b[1m196/196\u001b[0m \u001b[32m━━━━━━━━━━━━━━━━━━━━\u001b[0m\u001b[37m\u001b[0m \u001b[1m3s\u001b[0m 14ms/step - accuracy: 0.9350 - loss: 0.1980 - val_accuracy: 0.7969 - val_loss: 0.6193\n",
      "Epoch 33/40\n",
      "\u001b[1m196/196\u001b[0m \u001b[32m━━━━━━━━━━━━━━━━━━━━\u001b[0m\u001b[37m\u001b[0m \u001b[1m3s\u001b[0m 14ms/step - accuracy: 0.9348 - loss: 0.1977 - val_accuracy: 0.8007 - val_loss: 0.5792\n",
      "Epoch 34/40\n",
      "\u001b[1m196/196\u001b[0m \u001b[32m━━━━━━━━━━━━━━━━━━━━\u001b[0m\u001b[37m\u001b[0m \u001b[1m3s\u001b[0m 14ms/step - accuracy: 0.9405 - loss: 0.1851 - val_accuracy: 0.8015 - val_loss: 0.5865\n",
      "Epoch 35/40\n",
      "\u001b[1m196/196\u001b[0m \u001b[32m━━━━━━━━━━━━━━━━━━━━\u001b[0m\u001b[37m\u001b[0m \u001b[1m3s\u001b[0m 14ms/step - accuracy: 0.9423 - loss: 0.1752 - val_accuracy: 0.8190 - val_loss: 0.5570\n",
      "Epoch 36/40\n",
      "\u001b[1m196/196\u001b[0m \u001b[32m━━━━━━━━━━━━━━━━━━━━\u001b[0m\u001b[37m\u001b[0m \u001b[1m3s\u001b[0m 14ms/step - accuracy: 0.9436 - loss: 0.1722 - val_accuracy: 0.8289 - val_loss: 0.5416\n",
      "Epoch 37/40\n",
      "\u001b[1m196/196\u001b[0m \u001b[32m━━━━━━━━━━━━━━━━━━━━\u001b[0m\u001b[37m\u001b[0m \u001b[1m3s\u001b[0m 14ms/step - accuracy: 0.9430 - loss: 0.1732 - val_accuracy: 0.8311 - val_loss: 0.5198\n",
      "Epoch 38/40\n",
      "\u001b[1m196/196\u001b[0m \u001b[32m━━━━━━━━━━━━━━━━━━━━\u001b[0m\u001b[37m\u001b[0m \u001b[1m3s\u001b[0m 14ms/step - accuracy: 0.9473 - loss: 0.1618 - val_accuracy: 0.8405 - val_loss: 0.5257\n",
      "Epoch 39/40\n",
      "\u001b[1m196/196\u001b[0m \u001b[32m━━━━━━━━━━━━━━━━━━━━\u001b[0m\u001b[37m\u001b[0m \u001b[1m3s\u001b[0m 14ms/step - accuracy: 0.9496 - loss: 0.1566 - val_accuracy: 0.8496 - val_loss: 0.4759\n",
      "Epoch 40/40\n",
      "\u001b[1m196/196\u001b[0m \u001b[32m━━━━━━━━━━━━━━━━━━━━\u001b[0m\u001b[37m\u001b[0m \u001b[1m3s\u001b[0m 14ms/step - accuracy: 0.9455 - loss: 0.1700 - val_accuracy: 0.8490 - val_loss: 0.5050\n"
     ]
    }
   ],
   "source": [
    "from tensorflow.keras.models import Sequential\n",
    "from tensorflow.keras.layers import GRU, Dense, Dropout\n",
    "from tensorflow.keras.optimizers import Adam\n",
    "\n",
    "model = Sequential()\n",
    "\n",
    "model.add(GRU(64, input_shape=(X_train_balanced.shape[1], 1), return_sequences=False))\n",
    "\n",
    "model.add(Dropout(0.2))\n",
    "\n",
    "model.add(Dense(5, activation='softmax')) \n",
    "\n",
    "optimizer = Adam(learning_rate=0.001, decay=1e-6)\n",
    "\n",
    "model.compile(optimizer=optimizer, loss='sparse_categorical_crossentropy', metrics=['accuracy'])\n",
    "\n",
    "model.summary()\n",
    "\n",
    "\n",
    "history = model.fit(\n",
    "    X_train_balanced, y_train_balanced,\n",
    "    epochs=40,\n",
    "    batch_size=512,\n",
    "    validation_split=0.2\n",
    ")\n"
   ]
  },
  {
   "cell_type": "code",
   "execution_count": 51,
   "metadata": {
    "execution": {
     "iopub.execute_input": "2024-11-21T15:55:27.924381Z",
     "iopub.status.busy": "2024-11-21T15:55:27.923609Z",
     "iopub.status.idle": "2024-11-21T15:55:31.033021Z",
     "shell.execute_reply": "2024-11-21T15:55:31.032150Z",
     "shell.execute_reply.started": "2024-11-21T15:55:27.924344Z"
    }
   },
   "outputs": [
    {
     "name": "stdout",
     "output_type": "stream",
     "text": [
      "\u001b[1m842/842\u001b[0m \u001b[32m━━━━━━━━━━━━━━━━━━━━\u001b[0m\u001b[37m\u001b[0m \u001b[1m3s\u001b[0m 4ms/step - accuracy: 0.9418 - loss: 0.2135\n",
      "Test Loss: 0.20855173468589783\n",
      "Test Accuracy: 0.9434382319450378\n"
     ]
    }
   ],
   "source": [
    "loss, accuracy = model.evaluate(X_test, y_test)\n",
    "print(f\"Test Loss: {loss}\")\n",
    "print(f\"Test Accuracy: {accuracy}\")"
   ]
  },
  {
   "cell_type": "markdown",
   "metadata": {},
   "source": [
    "# \"The hybrid system consisting of 1D CNN and GRU achieved the highest accuracy of 95.81%.\""
   ]
  },
  {
   "cell_type": "code",
   "execution_count": null,
   "metadata": {},
   "outputs": [],
   "source": []
  }
 ],
 "metadata": {
  "kaggle": {
   "accelerator": "nvidiaTeslaT4",
   "dataSources": [
    {
     "datasetId": 6136640,
     "sourceId": 9974051,
     "sourceType": "datasetVersion"
    }
   ],
   "dockerImageVersionId": 30787,
   "isGpuEnabled": true,
   "isInternetEnabled": true,
   "language": "python",
   "sourceType": "notebook"
  },
  "kernelspec": {
   "display_name": "Python 3 (ipykernel)",
   "language": "python",
   "name": "python3"
  },
  "language_info": {
   "codemirror_mode": {
    "name": "ipython",
    "version": 3
   },
   "file_extension": ".py",
   "mimetype": "text/x-python",
   "name": "python",
   "nbconvert_exporter": "python",
   "pygments_lexer": "ipython3",
   "version": "3.9.13"
  }
 },
 "nbformat": 4,
 "nbformat_minor": 4
}
